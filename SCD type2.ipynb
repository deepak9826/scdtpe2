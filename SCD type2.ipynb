{
 "cells": [
  {
   "cell_type": "code",
   "execution_count": 0,
   "metadata": {
    "application/vnd.databricks.v1+cell": {
     "cellMetadata": {
      "byteLimit": 2048000,
      "implicitDf": true,
      "rowLimit": 10000
     },
     "inputWidgets": {},
     "nuid": "c9e0293f-d80e-4c6c-b3db-d6c24913c351",
     "showTitle": false,
     "title": ""
    }
   },
   "outputs": [],
   "source": [
    "%sql\n",
    "create or replace table scd2(\n",
    "  pk1 int ,\n",
    "  pk2 string,\n",
    "  dim1 int,\n",
    "  dim2 int,\n",
    "  dim3 int,\n",
    "  dim4 int,\n",
    "  active_status string,\n",
    "  start_date timestamp,\n",
    "  end_date timestamp)\n",
    "  using delta\n",
    "  location 'dbfs:/mnt/raw/scd2'\n"
   ]
  },
  {
   "cell_type": "code",
   "execution_count": 0,
   "metadata": {
    "application/vnd.databricks.v1+cell": {
     "cellMetadata": {
      "byteLimit": 2048000,
      "implicitDf": true,
      "rowLimit": 10000
     },
     "inputWidgets": {},
     "nuid": "eb2a1118-01d0-408b-a2e5-1554ca43a108",
     "showTitle": false,
     "title": ""
    }
   },
   "outputs": [],
   "source": [
    "%sql\n",
    "insert into scd2 values(111,\"unit1\",200,500,800,400,'Y',current_timestamp(),'9999-12-31');\n",
    "insert into scd2 values(222,\"unit2\",900,NULL,700,100,'Y',current_timestamp(),'9999-12-31');\n",
    "insert into scd2 values(333,\"unit3\",300,900,250,650,'Y',current_timestamp(),'9999-12-31');"
   ]
  },
  {
   "cell_type": "code",
   "execution_count": 0,
   "metadata": {
    "application/vnd.databricks.v1+cell": {
     "cellMetadata": {
      "byteLimit": 2048000,
      "rowLimit": 10000
     },
     "inputWidgets": {},
     "nuid": "407128a0-d760-42c9-9fa8-f8191eb4c595",
     "showTitle": false,
     "title": ""
    }
   },
   "outputs": [],
   "source": [
    "from delta import *\n",
    "targetTable = DeltaTable.forPath(spark,\"dbfs:/mnt/raw/scd2\")\n",
    "targetDF=targetTable.toDF()\n",
    "display(targetDF)"
   ]
  },
  {
   "cell_type": "code",
   "execution_count": 0,
   "metadata": {
    "application/vnd.databricks.v1+cell": {
     "cellMetadata": {
      "byteLimit": 2048000,
      "rowLimit": 10000
     },
     "inputWidgets": {},
     "nuid": "ffead922-c07e-46c5-9ccb-0b4994d7e15f",
     "showTitle": false,
     "title": ""
    }
   },
   "outputs": [],
   "source": [
    "from pyspark.sql.types import *\n",
    "from pyspark.sql.functions import *\n",
    "\n",
    "\n",
    "schema = StructType([StructField(\"pk1\",StringType(),True),\\\n",
    "                    StructField(\"pk2\",StringType(),True),\\\n",
    "                    StructField(\"dim1\",IntegerType(),True),\\\n",
    "                    StructField(\"dim2\",IntegerType(),True),\\\n",
    "                    StructField(\"dim3\",IntegerType(),True),\\\n",
    "                    StructField(\"dim4\",IntegerType(),True),\\\n",
    "                        ])"
   ]
  },
  {
   "cell_type": "code",
   "execution_count": 0,
   "metadata": {
    "application/vnd.databricks.v1+cell": {
     "cellMetadata": {
      "byteLimit": 2048000,
      "rowLimit": 10000
     },
     "inputWidgets": {},
     "nuid": "762782f0-0f72-4cab-bac2-97d11e0cd1c7",
     "showTitle": false,
     "title": ""
    }
   },
   "outputs": [],
   "source": [
    "data=[(111,\"unit1\",200,500,800,400),\n",
    "      (222,\"unit2\",800,1300,800,500),\n",
    "      (444,\"unit4\",100,None,700,300)]\n",
    "\n",
    "sourceDF = spark.createDataFrame(data=data,schema=schema)\n",
    "display(sourceDF)"
   ]
  },
  {
   "cell_type": "code",
   "execution_count": 0,
   "metadata": {
    "application/vnd.databricks.v1+cell": {
     "cellMetadata": {
      "byteLimit": 2048000,
      "rowLimit": 10000
     },
     "inputWidgets": {},
     "nuid": "57f00da6-13b0-486c-90fd-d0fd1594791c",
     "showTitle": false,
     "title": ""
    }
   },
   "outputs": [],
   "source": [
    "joinDF=sourceDF.join(targetDF, (sourceDF.pk1 == targetDF.pk1)&\\\n",
    "        (sourceDF.pk2 == targetDF.pk2)&\\\n",
    "        (targetDF.active_status == \"Y\"),\"leftouter\")\\\n",
    "    .select(sourceDF[\"*\"],\\\n",
    "            targetDF.pk1.alias(\"target_pk1\"),\\\n",
    "            targetDF.pk2.alias(\"target_pk2\"),\\\n",
    "            targetDF.dim1.alias(\"target_dim1\"),\\\n",
    "            targetDF.dim2.alias(\"target_dim2\"),\\\n",
    "            targetDF.dim3.alias(\"target_dim3\"),\\\n",
    "            targetDF.dim4.alias(\"target_dim4\"))\n",
    "display(joinDF)"
   ]
  },
  {
   "cell_type": "code",
   "execution_count": 0,
   "metadata": {
    "application/vnd.databricks.v1+cell": {
     "cellMetadata": {
      "byteLimit": 2048000,
      "rowLimit": 10000
     },
     "inputWidgets": {},
     "nuid": "4a1c3df3-91dd-4830-b63d-688524f4e83a",
     "showTitle": false,
     "title": ""
    }
   },
   "outputs": [],
   "source": [
    "filterDF = joinDF.filter(xxhash64(joinDF.dim1,joinDF.dim2,joinDF.dim3,joinDF.dim4)!=xxhash64(joinDF.target_dim1,joinDF.target_dim2,joinDF.target_dim3,joinDF.target_dim4))\n",
    "\n",
    "display(filterDF)"
   ]
  },
  {
   "cell_type": "code",
   "execution_count": 0,
   "metadata": {
    "application/vnd.databricks.v1+cell": {
     "cellMetadata": {
      "byteLimit": 2048000,
      "rowLimit": 10000
     },
     "inputWidgets": {},
     "nuid": "5e1dc96c-1f9b-4fb3-ad69-4e6ffc5769f5",
     "showTitle": false,
     "title": ""
    }
   },
   "outputs": [],
   "source": [
    "mergeDF = filterDF.withColumn(\"MERGEKEY\",concat(filterDF.pk1,filterDF.pk2))\n",
    "\n",
    "display(mergeDF)"
   ]
  },
  {
   "cell_type": "code",
   "execution_count": 0,
   "metadata": {
    "application/vnd.databricks.v1+cell": {
     "cellMetadata": {
      "byteLimit": 2048000,
      "rowLimit": 10000
     },
     "inputWidgets": {},
     "nuid": "2a420cf6-26a0-430b-a26c-0e024a702f29",
     "showTitle": false,
     "title": ""
    }
   },
   "outputs": [],
   "source": [
    "dummyDF=filterDF.filter(\"target_pk1 is not null\").withColumn(\"MERGEKEY\",lit(None))\n",
    "display(dummyDF)"
   ]
  },
  {
   "cell_type": "code",
   "execution_count": 0,
   "metadata": {
    "application/vnd.databricks.v1+cell": {
     "cellMetadata": {
      "byteLimit": 2048000,
      "rowLimit": 10000
     },
     "inputWidgets": {},
     "nuid": "e54f9fdb-f6df-40e7-a464-85d66a693cf4",
     "showTitle": false,
     "title": ""
    }
   },
   "outputs": [],
   "source": [
    "scdDF = mergeDF.union(dummyDF)\n",
    "\n",
    "display(scdDF)"
   ]
  },
  {
   "cell_type": "code",
   "execution_count": 0,
   "metadata": {
    "application/vnd.databricks.v1+cell": {
     "cellMetadata": {
      "byteLimit": 2048000,
      "rowLimit": 10000
     },
     "inputWidgets": {},
     "nuid": "2385eb11-af1c-40e9-b7b6-d6e822320254",
     "showTitle": false,
     "title": ""
    }
   },
   "outputs": [],
   "source": [
    "targetTable.alias(\"target\").merge(\n",
    "    source = scdDF.alias(\"source\"),\n",
    "    condition = \"concat(target.pk1,target.pk2) = source.MERGEKEY and target.active_status ='Y' \"\n",
    ").whenMatchedUpdate(set=\n",
    "                    {\n",
    "                        \"target.active_status\":\"'N'\",\n",
    "                        \"target.end_date\" : \"current_date\"\n",
    "                    }).whenNotMatchedInsert(values =\n",
    "                                            {\n",
    "                                                \"pk1\":\"source.pk1\",\n",
    "                                                \"pk2\":\"source.pk2\",\n",
    "                                                \"dim1\":\"source.dim1\",\n",
    "                                                \"dim2\":\"source.dim2\",\n",
    "                                                \"dim3\":\"source.dim3\",\n",
    "                                                \"dim4\":\"source.dim4\",\n",
    "                                                \"active_status\":\"'Y'\",\n",
    "                                                \"start_date\":\"current_date\",\n",
    "                                                \"end_date\":\"\"\"to_date('9999-12-31','yyyy-MM-dd')\"\"\"\n",
    "\n",
    "                                            }).execute()"
   ]
  },
  {
   "cell_type": "code",
   "execution_count": 0,
   "metadata": {
    "application/vnd.databricks.v1+cell": {
     "cellMetadata": {
      "byteLimit": 2048000,
      "rowLimit": 10000
     },
     "inputWidgets": {},
     "nuid": "b3cb295f-d6df-4266-8aae-aae532f7c880",
     "showTitle": false,
     "title": ""
    }
   },
   "outputs": [],
   "source": [
    "# from datetime import date\n",
    "# from pyspark.sql.functions import col, current_date, to_date\n",
    "# notactice_status=\"N\"\n",
    "# targetTable.alias(\"target\").merge(\n",
    "#      source=scdDF.alias(\"source\"),\n",
    "#     condition=\"concat(target.pk1, target.pk2) = source.MERGEKEY and target.active_status ='Y'\"\n",
    "# ).whenMatchedUpdate(set={\n",
    "#     \"target.active_status\":'N', \n",
    "#     \"target.end_date\": current_date()\n",
    "# }).whenNotMatchedInsert(values={\n",
    "#     \"pk1\": col(\"source.pk1\"),\n",
    "#     \"pk2\": col(\"source.pk2\"),\n",
    "#     \"dim1\": col(\"source.dim1\"),\n",
    "#     \"dim2\": col(\"source.dim2\"),\n",
    "#     \"dim3\": col(\"source.dim3\"),\n",
    "#     \"dim4\": col(\"source.dim4\"),\n",
    "#     \"active_status\": \"Y\",\n",
    "#     \"start_date\": current_date(),\n",
    "#     \"end_date\": to_date(\"9999-12-31\", \"yyyy-MM-dd\")\n",
    "# }).execute()\n"
   ]
  },
  {
   "cell_type": "code",
   "execution_count": 0,
   "metadata": {
    "application/vnd.databricks.v1+cell": {
     "cellMetadata": {
      "byteLimit": 2048000,
      "implicitDf": true,
      "rowLimit": 10000
     },
     "inputWidgets": {},
     "nuid": "42ca0b79-51f2-497e-9b2d-f034db440652",
     "showTitle": false,
     "title": ""
    }
   },
   "outputs": [],
   "source": [
    "%sql\n",
    "select * from scd2;"
   ]
  },
  {
   "cell_type": "code",
   "execution_count": 0,
   "metadata": {
    "application/vnd.databricks.v1+cell": {
     "cellMetadata": {
      "byteLimit": 2048000,
      "implicitDf": true,
      "rowLimit": 10000
     },
     "inputWidgets": {},
     "nuid": "18c849f8-6066-4ead-af23-02d1380bf54e",
     "showTitle": false,
     "title": ""
    }
   },
   "outputs": [],
   "source": [
    "%sql\n",
    "describe history scd2;"
   ]
  },
  {
   "cell_type": "code",
   "execution_count": 0,
   "metadata": {
    "application/vnd.databricks.v1+cell": {
     "cellMetadata": {
      "byteLimit": 2048000,
      "rowLimit": 10000
     },
     "inputWidgets": {},
     "nuid": "81f5f57c-849f-4794-af9d-18b80cf71829",
     "showTitle": false,
     "title": ""
    }
   },
   "outputs": [],
   "source": [
    "df=spark.read.option(\"header\", \"true\").option(\"inferSchema\", \"true\").csv(\"dbfs:/mnt/raw/newData\")"
   ]
  },
  {
   "cell_type": "code",
   "execution_count": 0,
   "metadata": {
    "application/vnd.databricks.v1+cell": {
     "cellMetadata": {
      "byteLimit": 2048000,
      "rowLimit": 10000
     },
     "inputWidgets": {},
     "nuid": "f1b7c95c-96ae-4c00-bb65-b488007b84ae",
     "showTitle": false,
     "title": ""
    }
   },
   "outputs": [],
   "source": [
    "df.write.mode(\"overwrite\").option(\"header\" ,\"true\" ).save(\"abfss://new-container@storagefordemotesting.dfs.core.windows.net/newData1\")"
   ]
  },
  {
   "cell_type": "code",
   "execution_count": 0,
   "metadata": {
    "application/vnd.databricks.v1+cell": {
     "cellMetadata": {
      "byteLimit": 2048000,
      "rowLimit": 10000
     },
     "inputWidgets": {},
     "nuid": "5bd47414-c4ac-4cec-9284-dd7cf76b1abf",
     "showTitle": false,
     "title": ""
    }
   },
   "outputs": [],
   "source": [
    "df1=spark.read.format(\"delta\").load(\"abfss://new-container@storagefordemotesting.dfs.core.windows.net/newData1/\")"
   ]
  },
  {
   "cell_type": "code",
   "execution_count": 0,
   "metadata": {
    "application/vnd.databricks.v1+cell": {
     "cellMetadata": {
      "byteLimit": 2048000,
      "rowLimit": 10000
     },
     "inputWidgets": {},
     "nuid": "78d02f17-9245-43dc-8235-23ce7eb60d33",
     "showTitle": false,
     "title": ""
    }
   },
   "outputs": [],
   "source": [
    "display(df1)"
   ]
  }
 ],
 "metadata": {
  "application/vnd.databricks.v1+notebook": {
   "dashboards": [],
   "language": "python",
   "notebookMetadata": {
    "mostRecentlyExecutedCommandWithImplicitDF": {
     "commandId": 3204230852428201,
     "dataframes": [
      "_sqldf"
     ]
    },
    "pythonIndentUnit": 4
   },
   "notebookName": "SCD type2",
   "widgets": {}
  }
 },
 "nbformat": 4,
 "nbformat_minor": 0
}
